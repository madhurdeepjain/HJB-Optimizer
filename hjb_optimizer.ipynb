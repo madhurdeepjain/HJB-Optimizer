{
 "cells": [
  {
   "cell_type": "code",
   "execution_count": 1,
   "metadata": {},
   "outputs": [],
   "source": [
    "import tensorflow as tf\n",
    "from tensorflow.keras.datasets import mnist\n",
    "from tensorflow.keras.models import Sequential\n",
    "from tensorflow.keras import layers\n",
    "\n",
    "import numpy as np"
   ]
  },
  {
   "cell_type": "code",
   "execution_count": 2,
   "metadata": {},
   "outputs": [
    {
     "name": "stdout",
     "output_type": "stream",
     "text": [
      "x_train shape: (60000, 28, 28, 1)\n",
      "60000 train samples\n",
      "10000 test samples\n"
     ]
    }
   ],
   "source": [
    "batch_size = 64\n",
    "shuffle_buffer_size = 100\n",
    "num_classes = 10\n",
    "epochs = 6\n",
    "\n",
    "# input image dimensions\n",
    "img_rows, img_cols = 28, 28\n",
    "\n",
    "# the data, split between train and test sets\n",
    "(x_train, y_train), (x_test, y_test) = mnist.load_data()\n",
    "\n",
    "x_train = x_train.reshape(x_train.shape[0], img_rows, img_cols, 1)\n",
    "x_test = x_test.reshape(x_test.shape[0], img_rows, img_cols, 1)\n",
    "input_shape = (img_rows, img_cols, 1)\n",
    "\n",
    "x_train = x_train.astype('float32')\n",
    "x_test = x_test.astype('float32')\n",
    "x_train /= 255\n",
    "x_test /= 255\n",
    "print('x_train shape:', x_train.shape)\n",
    "print(x_train.shape[0], 'train samples')\n",
    "print(x_test.shape[0], 'test samples')\n",
    "\n",
    "# convert class vectors to binary class matrices\n",
    "y_train = tf.keras.utils.to_categorical(y_train, num_classes)\n",
    "y_test = tf.keras.utils.to_categorical(y_test, num_classes)\n",
    "\n",
    "train_ds = tf.data.Dataset.from_tensor_slices((x_train, y_train))\n",
    "train_ds = train_ds.shuffle(shuffle_buffer_size).batch(batch_size)\n",
    "test_ds = tf.data.Dataset.from_tensor_slices((x_test, y_test))\n",
    "test_ds = test_ds.batch(batch_size)"
   ]
  },
  {
   "cell_type": "code",
   "execution_count": 3,
   "metadata": {},
   "outputs": [],
   "source": [
    "def get_model():\n",
    "    model = Sequential()\n",
    "    model.add(layers.Conv2D(32, kernel_size=(3, 3),\n",
    "                     activation='relu',\n",
    "                     input_shape=input_shape))\n",
    "    model.add(layers.Conv2D(64, (3, 3), activation='relu'))\n",
    "    model.add(layers.MaxPooling2D(pool_size=(2, 2)))\n",
    "    model.add(layers.Flatten())\n",
    "    model.add(layers.Dense(128, activation='relu'))\n",
    "    model.add(layers.Dense(num_classes, activation='softmax'))\n",
    "    return model"
   ]
  },
  {
   "cell_type": "code",
   "execution_count": 4,
   "metadata": {},
   "outputs": [],
   "source": [
    "def mse_grad(model, inputs, targets):\n",
    "    with tf.GradientTape() as tape:\n",
    "        loss_value = tf.keras.losses.mean_squared_error(y_true=targets, y_pred=model(inputs, training=True))\n",
    "    return tape.gradient(loss_value, model.trainable_variables)"
   ]
  },
  {
   "cell_type": "markdown",
   "metadata": {},
   "source": [
    "## HJB-AdaGrad Optimization"
   ]
  },
  {
   "cell_type": "code",
   "execution_count": 5,
   "metadata": {
    "scrolled": true
   },
   "outputs": [],
   "source": [
    "def hjb_optimize(model, train_ds, test_ds, r=100., epochs=6):\n",
    "    train_loss_results = []\n",
    "    train_accuracy_results = []\n",
    "\n",
    "    for epoch in range(epochs):\n",
    "        epoch_loss_avg = tf.keras.metrics.Mean()\n",
    "        epoch_accuracy = tf.keras.metrics.CategoricalAccuracy()\n",
    "\n",
    "        for x, y in train_ds:\n",
    "            grads = mse_grad(model, x, y)\n",
    "            grad_t = None\n",
    "            for g in grads:\n",
    "                if grad_t is None:\n",
    "                    grad_t = tf.reshape(g, [-1])\n",
    "                else:\n",
    "                    grad_t = tf.concat([grad_t, tf.reshape(g, [-1])], 0)\n",
    "            grad_norm_value = tf.norm(grad_t)\n",
    "            loss_value = model.loss(y_true=y, y_pred=model(x, training=True))\n",
    "            grad_t *= tf.sqrt(2*loss_value)\n",
    "            grad_t /= grad_norm_value\n",
    "            grad_t /= tf.sqrt(r)\n",
    "            it = 0\n",
    "            for g in grads:\n",
    "                len_g = np.prod(g.shape)\n",
    "                g = tf.reshape(grad_t[it:it+len_g], g.shape)\n",
    "                it += len_g\n",
    "            (model.optimizer).apply_gradients(zip(grads, model.trainable_variables))\n",
    "#             print(\"Step: {},         Loss: {}\".format(optimizer.iterations.numpy(), loss_value))\n",
    "\n",
    "            # Track progress\n",
    "            epoch_loss_avg.update_state(loss_value)\n",
    "            epoch_accuracy.update_state(y, model(x, training=True))\n",
    "\n",
    "        # End epoch\n",
    "        train_loss_results.append(epoch_loss_avg.result())\n",
    "        train_accuracy_results.append(epoch_accuracy.result())\n",
    "\n",
    "        if epoch % 1 == 0:\n",
    "            print(\"Epoch {:02d}: Loss: {:.3f}, Accuracy: {:.3%}\".format(epoch+1,\n",
    "                                                                        epoch_loss_avg.result(),\n",
    "                                                                        epoch_accuracy.result()))\n",
    "\n",
    "    test_accuracy = tf.keras.metrics.CategoricalAccuracy()\n",
    "\n",
    "    for x, y in test_ds:\n",
    "        test_accuracy.update_state(y, model(x, training=False))\n",
    "\n",
    "    print(\"Test set accuracy: {:.3%}\".format(test_accuracy.result()))"
   ]
  },
  {
   "cell_type": "code",
   "execution_count": 6,
   "metadata": {},
   "outputs": [
    {
     "name": "stdout",
     "output_type": "stream",
     "text": [
      "Epoch 01: Loss: 0.825, Accuracy: 79.543%\n",
      "Epoch 02: Loss: 0.302, Accuracy: 93.228%\n",
      "Epoch 03: Loss: 0.258, Accuracy: 94.320%\n",
      "Epoch 04: Loss: 0.230, Accuracy: 95.005%\n",
      "Epoch 05: Loss: 0.208, Accuracy: 95.572%\n",
      "Epoch 06: Loss: 0.190, Accuracy: 95.993%\n",
      "Test set accuracy: 95.250%\n"
     ]
    }
   ],
   "source": [
    "model = get_model()\n",
    "model.compile(loss=tf.keras.losses.CategoricalCrossentropy(), optimizer=tf.keras.optimizers.Adagrad())\n",
    "hjb_optimize(model, train_ds, test_ds, r=100., epochs=epochs)"
   ]
  },
  {
   "cell_type": "markdown",
   "metadata": {},
   "source": [
    "## Standard AdaGrad Optimization"
   ]
  },
  {
   "cell_type": "code",
   "execution_count": 7,
   "metadata": {},
   "outputs": [
    {
     "name": "stdout",
     "output_type": "stream",
     "text": [
      "Epoch 1/6\n",
      "938/938 [==============================] - 7s 8ms/step - loss: 1.1032 - accuracy: 0.7268\n",
      "Epoch 2/6\n",
      "938/938 [==============================] - 7s 8ms/step - loss: 0.3523 - accuracy: 0.8981\n",
      "Epoch 3/6\n",
      "938/938 [==============================] - 7s 8ms/step - loss: 0.2949 - accuracy: 0.9138\n",
      "Epoch 4/6\n",
      "938/938 [==============================] - 7s 8ms/step - loss: 0.2624 - accuracy: 0.9233\n",
      "Epoch 5/6\n",
      "938/938 [==============================] - 7s 8ms/step - loss: 0.2390 - accuracy: 0.9305\n",
      "Epoch 6/6\n",
      "938/938 [==============================] - 7s 8ms/step - loss: 0.2199 - accuracy: 0.9359\n",
      "157/157 [==============================] - 1s 5ms/step - loss: 0.2029 - accuracy: 0.9419\n",
      "Test accuracy: 0.9419000148773193\n"
     ]
    }
   ],
   "source": [
    "model = get_model()\n",
    "model.compile(loss=tf.keras.losses.CategoricalCrossentropy(),\n",
    "              optimizer=tf.keras.optimizers.Adagrad(),\n",
    "              metrics=['accuracy'])\n",
    "model.fit(train_ds, epochs=epochs)\n",
    "\n",
    "score = model.evaluate(test_ds)\n",
    "print('Test accuracy:', score[1])"
   ]
  }
 ],
 "metadata": {
  "kernelspec": {
   "display_name": "Python 3",
   "language": "python",
   "name": "python3"
  },
  "language_info": {
   "codemirror_mode": {
    "name": "ipython",
    "version": 3
   },
   "file_extension": ".py",
   "mimetype": "text/x-python",
   "name": "python",
   "nbconvert_exporter": "python",
   "pygments_lexer": "ipython3",
   "version": "3.7.3"
  }
 },
 "nbformat": 4,
 "nbformat_minor": 2
}
